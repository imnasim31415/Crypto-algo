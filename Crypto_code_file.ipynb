{
  "nbformat": 4,
  "nbformat_minor": 0,
  "metadata": {
    "colab": {
      "provenance": []
    },
    "kernelspec": {
      "name": "python3",
      "display_name": "Python 3"
    },
    "language_info": {
      "name": "python"
    }
  },
  "cells": [
    {
      "cell_type": "code",
      "source": [
        "from collections import defaultdict\n",
        "import random"
      ],
      "metadata": {
        "id": "_IjVkWqOWiUC"
      },
      "execution_count": null,
      "outputs": []
    },
    {
      "cell_type": "code",
      "source": [
        "total_key = 50\n",
        "chunk_size = 64\n",
        "update_count = 10\n",
        "partial_key_size = 32"
      ],
      "metadata": {
        "id": "EivXCaibrda1"
      },
      "execution_count": null,
      "outputs": []
    },
    {
      "cell_type": "code",
      "execution_count": null,
      "metadata": {
        "colab": {
          "base_uri": "https://localhost:8080/"
        },
        "id": "Q6PhOJItPJxq",
        "outputId": "0ff93ee1-e91d-4b45-dbbd-e968bcb2b50b"
      },
      "outputs": [
        {
          "output_type": "stream",
          "name": "stdout",
          "text": [
            "[21, 48, 22, 28, 42, 31, 10, 30, 34, 25, 11, 2, 15, 41, 27, 8, 26, 40, 44, 6, 3, 29, 4, 36, 0, 32, 18, 14, 43, 46, 5, 38, 9, 39, 23, 12, 13, 37, 33, 1, 47, 16, 49, 24, 17, 20, 35, 19, 7, 45]\n",
            "[19, 20, 23, 9, 4, 32, 38, 5, 14, 15, 30, 21, 34, 46, 37, 45, 44, 26, 10, 3, 7, 48, 49, 22, 12, 6, 29, 1, 41, 47, 8, 13, 28, 16, 17, 42, 0, 25, 35, 33, 43, 11, 2, 40, 24, 18, 27, 36, 39, 31]\n"
          ]
        }
      ],
      "source": [
        "# random 32 bit partial key of 1st index and 2nd index\n",
        "\n",
        "index1 = list(range(0,50))\n",
        "index1_key = []\n",
        "for i in range(total_key):\n",
        "    index1_key.append(index1.pop(random.randrange(len(index1))))\n",
        "\n",
        "index2 = list(range(0,total_key))\n",
        "index2_key=[]\n",
        "for i in range(total_key):\n",
        "    index2_key.append(index2.pop(random.randrange(len(index2))))\n",
        "\n",
        "print(index1_key)\n",
        "print(index2_key)\n"
      ]
    },
    {
      "cell_type": "code",
      "source": [
        "def int_to_binary(s):\n",
        "  return bin(s)[2:].zfill(32)"
      ],
      "metadata": {
        "id": "BB9fl4dcdGN_"
      },
      "execution_count": null,
      "outputs": []
    },
    {
      "cell_type": "code",
      "source": [
        "# generate 64 bit key using partial key of 1st and 2nd index\n",
        "keys=list(range(0,total_key))\n",
        "def generate_64bit_full_key():\n",
        "    \n",
        "    for i in range(0,total_key):\n",
        "      keys[i]=int_to_binary(index1_key[i])+int_to_binary(index2_key[i])\n",
        "\n",
        "generate_64bit_full_key()\n",
        "keys[0]\n"
      ],
      "metadata": {
        "id": "kFkRCHQLYpir",
        "colab": {
          "base_uri": "https://localhost:8080/",
          "height": 35
        },
        "outputId": "2c1f9ee3-6768-4b22-a360-df4630dfce8d"
      },
      "execution_count": null,
      "outputs": [
        {
          "output_type": "execute_result",
          "data": {
            "text/plain": [
              "'0000000000000000000000000001010100000000000000000000000000010011'"
            ],
            "application/vnd.google.colaboratory.intrinsic+json": {
              "type": "string"
            }
          },
          "metadata": {},
          "execution_count": 5
        }
      ]
    },
    {
      "cell_type": "code",
      "source": [
        "#converting string into binary\n",
        "#splitting binary string array into chunks of 64bits\n",
        "\n",
        "def string_to_binary(plain_text):\n",
        "    return ''.join(format(ord(i), '08b') for i in plain_text)\n",
        "\n",
        "def convert_string_to_binary(plain_text):\n",
        "    bin=string_to_binary(plain_text)\n",
        "\n",
        "    #splitting binary string array into chunks of 64bits\n",
        "    chunks = [bin[i:i+chunk_size].zfill(chunk_size) for i in range(0, len(bin), chunk_size)]\n",
        "    return chunks\n"
      ],
      "metadata": {
        "id": "k4wtaVysjbBM"
      },
      "execution_count": null,
      "outputs": []
    },
    {
      "cell_type": "code",
      "source": [
        "#input plain text and convert that to 64 bit binary string\n",
        "plain_text=input('Enter the plain text ')\n",
        "print(len(plain_text))\n",
        "binary_plain_text=convert_string_to_binary(plain_text)\n",
        "binary_plain_text"
      ],
      "metadata": {
        "colab": {
          "base_uri": "https://localhost:8080/"
        },
        "id": "7n2i9ADWi7XM",
        "outputId": "0b1fa734-c7d6-4ac8-9aaf-2cb0b598278a"
      },
      "execution_count": null,
      "outputs": [
        {
          "output_type": "stream",
          "name": "stdout",
          "text": [
            "Enter the plain text Hello wrold\n",
            "11\n"
          ]
        },
        {
          "output_type": "execute_result",
          "data": {
            "text/plain": [
              "['0100100001100101011011000110110001101111001000000111011101110010',\n",
              " '0000000000000000000000000000000000000000011011110110110001100100']"
            ]
          },
          "metadata": {},
          "execution_count": 7
        }
      ]
    },
    {
      "cell_type": "code",
      "source": [
        "# S-Box dictionary\n",
        "sbox = {'0000': '0011','0001': '1101', '0010': '1010', '0011': '0010', '0100': '0001', '0101': '0111', '0110': '1011', '0111': '0101',\n",
        "        '1000': '1100', '1001': '1110', '1010': '1111', '1011': '0110', '1100': '1001', '1101': '1000', '1110': '0000', '1111': '0100'}\n",
        "\n",
        "\n",
        "# reverse sbox \n",
        "sbox_reversed = dict(map(reversed, sbox.items()))\n",
        "\n",
        "# P-Box list\n",
        "pbox = [ 0,16,32,48,11,17,33,49,21,18,34,30,7,19,35,57,4,40,36,52,5,2,37,53,6,22,38,54,3,23,39,51,8,\n",
        "         28,20,56,9,25,45,55,10,26,46,58,1,27,43,59,12,24,44,60,13,29,41,61,14,50,42,62,15,63,47,31 ]"
      ],
      "metadata": {
        "id": "FdqMYu1sr3uJ"
      },
      "execution_count": null,
      "outputs": []
    },
    {
      "cell_type": "code",
      "source": [
        "#keys_used = []\n",
        "cypher_text=str()"
      ],
      "metadata": {
        "id": "_mqQlfnyr67E"
      },
      "execution_count": null,
      "outputs": []
    },
    {
      "cell_type": "code",
      "source": [
        "# encrypt the plain binary string into cyper binary string\n",
        "\n",
        "def xor(n1, n2):\n",
        "    return [(ord(a) ^ ord(b)) for a,b in zip(n1, n2)]\n",
        "\n",
        "def pbox_mapped(string):\n",
        "    return ''.join([string[pbox[i]] for i in range(0, len(pbox))])\n",
        "\n",
        "def sbox_mapped(string):\n",
        "    return ''.join([sbox[(string[i:i+4].zfill(4))] for i in range(0,chunk_size, 4)])\n",
        "\n",
        "key_iterator=0\n",
        "cypher_text=\"\"\n",
        "keys_used=[]\n",
        "# loop through the 64 bit chunks of binary plain text\n",
        "for bits in binary_plain_text:\n",
        "\n",
        "    xor_key = []\n",
        "    \n",
        "    # perform xor operation and map using sbox & pbox update count times\n",
        "    for i in range(0,update_count):\n",
        "\n",
        "       # xor the binary string with 64 bit key\n",
        "       st_xor=xor(bits, keys[key_iterator])\n",
        "\n",
        "       # map the binary string with sbox\n",
        "       bits=sbox_mapped(''.join(map(str,st_xor)))\n",
        "\n",
        "       # map the binary string with pbox to produce permutation\n",
        "       bits=pbox_mapped(''.join(map(str,bits)))\n",
        "\n",
        "       # store the key used to encrypt \n",
        "       xor_key.append(keys[key_iterator])\n",
        "\n",
        "       # update key iterator\n",
        "       key_iterator=(key_iterator+1)%total_key\n",
        "\n",
        "    # store all the 10 keys that were used to xor the binary string\n",
        "    keys_used.append(xor_key)\n",
        "    # \n",
        "    cypher_text = cypher_text + bits\n",
        "\n",
        "cypher_text\n",
        "\n",
        "keys_used\n"
      ],
      "metadata": {
        "id": "6xV2W4wIr9EM",
        "colab": {
          "base_uri": "https://localhost:8080/"
        },
        "outputId": "9bd0ecf4-cfb2-410e-fbcd-0b6e4a87ad4d"
      },
      "execution_count": null,
      "outputs": [
        {
          "output_type": "execute_result",
          "data": {
            "text/plain": [
              "[['0000000000000000000000000001010100000000000000000000000000010011',\n",
              "  '0000000000000000000000000011000000000000000000000000000000010100',\n",
              "  '0000000000000000000000000001011000000000000000000000000000010111',\n",
              "  '0000000000000000000000000001110000000000000000000000000000001001',\n",
              "  '0000000000000000000000000010101000000000000000000000000000000100',\n",
              "  '0000000000000000000000000001111100000000000000000000000000100000',\n",
              "  '0000000000000000000000000000101000000000000000000000000000100110',\n",
              "  '0000000000000000000000000001111000000000000000000000000000000101',\n",
              "  '0000000000000000000000000010001000000000000000000000000000001110',\n",
              "  '0000000000000000000000000001100100000000000000000000000000001111'],\n",
              " ['0000000000000000000000000000101100000000000000000000000000011110',\n",
              "  '0000000000000000000000000000001000000000000000000000000000010101',\n",
              "  '0000000000000000000000000000111100000000000000000000000000100010',\n",
              "  '0000000000000000000000000010100100000000000000000000000000101110',\n",
              "  '0000000000000000000000000001101100000000000000000000000000100101',\n",
              "  '0000000000000000000000000000100000000000000000000000000000101101',\n",
              "  '0000000000000000000000000001101000000000000000000000000000101100',\n",
              "  '0000000000000000000000000010100000000000000000000000000000011010',\n",
              "  '0000000000000000000000000010110000000000000000000000000000001010',\n",
              "  '0000000000000000000000000000011000000000000000000000000000000011']]"
            ]
          },
          "metadata": {},
          "execution_count": 10
        }
      ]
    },
    {
      "cell_type": "code",
      "source": [
        "def pbox_reverse_mapped(string):\n",
        "    return ''.join([string[pbox.index(i)] for i in range(0, len(pbox))])\n",
        "\n",
        "def sbox_reverse_mapped(string):\n",
        "    return ''.join([sbox_reversed[(string[i:i+4].zfill(4))] for i in range(0,chunk_size, 4)])"
      ],
      "metadata": {
        "id": "7mpsSu0KsDUs"
      },
      "execution_count": null,
      "outputs": []
    },
    {
      "cell_type": "code",
      "source": [
        "# decrypt the cypher binary string into plain binary string\n",
        "chunks = [cypher_text[i:i+chunk_size].zfill(chunk_size) for i in range(0, len(cypher_text), chunk_size)]\n",
        "\n",
        "decypher_binary_string=\"\"\n",
        "\n",
        "# loop through the chunks of 64 bits\n",
        "for i in range(0,len(keys_used)):\n",
        "  cypher_chunk = chunks[i]\n",
        "\n",
        "  # traverse in reverse order of the keys that were used to xor\n",
        "  for inner_key in reversed(keys_used[i]):\n",
        "\n",
        "    # reverse map the cyphertext using pbox\n",
        "    cypher_chunk=pbox_reverse_mapped(''.join(map(str,cypher_chunk)))\n",
        "\n",
        "    # reverse map the cyphertext using sbox\n",
        "    cypher_chunk=sbox_reverse_mapped(''.join(map(str,cypher_chunk)))\n",
        "\n",
        "    # xor the cyphertext with the key to restore the plain binary string\n",
        "    cypher_chunk=''.join(map(str,xor(cypher_chunk,inner_key)))\n",
        "\n",
        "  decypher_binary_string = decypher_binary_string + cypher_chunk\n",
        "decypher_binary_string"
      ],
      "metadata": {
        "colab": {
          "base_uri": "https://localhost:8080/",
          "height": 35
        },
        "id": "EKrskqDosGO8",
        "outputId": "f13f579b-ca83-4140-dd6a-e894a5e4a9e2"
      },
      "execution_count": null,
      "outputs": [
        {
          "output_type": "execute_result",
          "data": {
            "text/plain": [
              "'01001000011001010110110001101100011011110010000001110111011100100000000000000000000000000000000000000000011011110110110001100100'"
            ],
            "application/vnd.google.colaboratory.intrinsic+json": {
              "type": "string"
            }
          },
          "metadata": {},
          "execution_count": 12
        }
      ]
    },
    {
      "cell_type": "code",
      "source": [
        "def binary_to_char(binary):     \n",
        "    binary1 = binary\n",
        "    decimal, i, n = 0, 0, 0\n",
        "    while(binary != 0):\n",
        "        dec = binary % 10\n",
        "        decimal = decimal + dec * pow(2, i)\n",
        "        binary = binary//10\n",
        "        i += 1\n",
        "    return (chr(decimal))\n",
        "\n",
        "\n",
        "def binary_to_char_blocks(binary):\n",
        "    return [binary_to_char(int(binary[i:i + 8])) for i in range(0, len(binary), 8)]\n",
        "\n",
        "\n",
        "def convert_binary_to_string(binary):\n",
        "    return ''.join(binary_to_char_blocks(binary))"
      ],
      "metadata": {
        "id": "APNMa6vbsKwd"
      },
      "execution_count": null,
      "outputs": []
    },
    {
      "cell_type": "code",
      "source": [
        "decrypted_string = convert_binary_to_string(decypher_binary_string)\n",
        "ans=str()\n",
        "for ch in decrypted_string:\n",
        "  if ord(ch)>=32 and ord(ch)<128:\n",
        "    ans=ans+ch\n",
        "print(ans)"
      ],
      "metadata": {
        "colab": {
          "base_uri": "https://localhost:8080/"
        },
        "id": "W1sMEiLXsNmN",
        "outputId": "cfdb97b7-0026-4088-c223-77bd1d195332"
      },
      "execution_count": null,
      "outputs": [
        {
          "output_type": "stream",
          "name": "stdout",
          "text": [
            "Hello wrold\n"
          ]
        }
      ]
    }
  ]
}