{
  "nbformat": 4,
  "nbformat_minor": 0,
  "metadata": {
    "colab": {
      "provenance": []
    },
    "kernelspec": {
      "name": "python3",
      "display_name": "Python 3"
    },
    "language_info": {
      "name": "python"
    }
  },
  "cells": [
    {
      "cell_type": "code",
      "source": [
        "#  last key iterator is stored and traversed backwards. instead of storing all the keys\n",
        "#  that were used to xor the binary string. this saves both memory and complexities "
      ],
      "metadata": {
        "id": "3nebODrX9Fse"
      },
      "execution_count": null,
      "outputs": []
    },
    {
      "cell_type": "code",
      "source": [
        "# partial key is not mapped to a random binary number. since, if we do so, we have to also store the random binary strings.\n",
        "# which will eventually increase our memory"
      ],
      "metadata": {
        "id": "04qyxrNC9af9"
      },
      "execution_count": null,
      "outputs": []
    },
    {
      "cell_type": "code",
      "source": [
        "import random"
      ],
      "metadata": {
        "id": "_IjVkWqOWiUC"
      },
      "execution_count": 1,
      "outputs": []
    },
    {
      "cell_type": "code",
      "source": [
        "total_key = 50\n",
        "chunk_size = 64\n",
        "update_count = 10\n",
        "partial_key_size = 32"
      ],
      "metadata": {
        "id": "EivXCaibrda1"
      },
      "execution_count": 2,
      "outputs": []
    },
    {
      "cell_type": "code",
      "execution_count": 3,
      "metadata": {
        "colab": {
          "base_uri": "https://localhost:8080/"
        },
        "id": "Q6PhOJItPJxq",
        "outputId": "90a53364-489f-49bc-e1f6-e6c160108a13"
      },
      "outputs": [
        {
          "output_type": "stream",
          "name": "stdout",
          "text": [
            "[32, 13, 29, 3, 47, 7, 4, 10, 21, 38, 15, 9, 25, 8, 49, 39, 2, 35, 20, 22, 17, 27, 36, 11, 16, 5, 33, 19, 18, 46, 31, 14, 30, 37, 0, 42, 48, 6, 45, 26, 28, 34, 24, 41, 1, 40, 23, 12, 43, 44]\n",
            "[13, 19, 15, 37, 45, 40, 39, 6, 26, 3, 4, 23, 44, 20, 7, 5, 22, 25, 14, 34, 11, 18, 0, 29, 49, 46, 28, 36, 42, 47, 1, 30, 48, 17, 2, 32, 10, 31, 43, 27, 16, 9, 38, 21, 8, 24, 33, 35, 41, 12]\n"
          ]
        }
      ],
      "source": [
        "# random 32 bit partial key of 1st index and 2nd index\n",
        "\n",
        "index1 = list(range(0,50))\n",
        "index1_key = []\n",
        "for i in range(total_key):\n",
        "    index1_key.append(index1.pop(random.randrange(len(index1))))\n",
        "\n",
        "index2 = list(range(0,total_key))\n",
        "index2_key=[]\n",
        "for i in range(total_key):\n",
        "    index2_key.append(index2.pop(random.randrange(len(index2))))\n",
        "\n",
        "print(index1_key)\n",
        "print(index2_key)\n"
      ]
    },
    {
      "cell_type": "code",
      "source": [
        "def int_to_binary(s):\n",
        "  return bin(s)[2:].zfill(32)"
      ],
      "metadata": {
        "id": "BB9fl4dcdGN_"
      },
      "execution_count": 4,
      "outputs": []
    },
    {
      "cell_type": "code",
      "source": [
        "# generate 64 bit key using partial key of 1st and 2nd index\n",
        "keys=list(range(0,total_key))\n",
        "def generate_64bit_full_key():\n",
        "    \n",
        "    for i in range(0,total_key):\n",
        "      keys[i]=int_to_binary(index1_key[i])+int_to_binary(index2_key[i])\n",
        "\n",
        "generate_64bit_full_key()\n",
        "keys[0]\n"
      ],
      "metadata": {
        "id": "kFkRCHQLYpir",
        "colab": {
          "base_uri": "https://localhost:8080/",
          "height": 35
        },
        "outputId": "09a3f302-b729-4424-d6ae-819921ac41ae"
      },
      "execution_count": 5,
      "outputs": [
        {
          "output_type": "execute_result",
          "data": {
            "text/plain": [
              "'0000000000000000000000000010000000000000000000000000000000001101'"
            ],
            "application/vnd.google.colaboratory.intrinsic+json": {
              "type": "string"
            }
          },
          "metadata": {},
          "execution_count": 5
        }
      ]
    },
    {
      "cell_type": "code",
      "source": [
        "#converting string into binary\n",
        "#splitting binary string array into chunks of 64bits\n",
        "\n",
        "def string_to_binary(plain_text):\n",
        "    return ''.join(format(ord(i), '08b') for i in plain_text)\n",
        "\n",
        "def convert_string_to_binary(plain_text):\n",
        "    bin=string_to_binary(plain_text)\n",
        "\n",
        "    #splitting binary string array into chunks of 64bits\n",
        "    chunks = [bin[i:i+chunk_size].zfill(chunk_size) for i in range(0, len(bin), chunk_size)]\n",
        "    return chunks\n"
      ],
      "metadata": {
        "id": "k4wtaVysjbBM"
      },
      "execution_count": 6,
      "outputs": []
    },
    {
      "cell_type": "code",
      "source": [
        "#input plain text and convert that to 64 bit binary string\n",
        "plain_text=input('Enter the plain text ')\n",
        "print(len(plain_text))\n",
        "binary_plain_text=convert_string_to_binary(plain_text)\n",
        "binary_plain_text"
      ],
      "metadata": {
        "colab": {
          "base_uri": "https://localhost:8080/"
        },
        "id": "7n2i9ADWi7XM",
        "outputId": "e829917c-8dfc-42e2-f85b-8a552ac954f4"
      },
      "execution_count": 25,
      "outputs": [
        {
          "output_type": "stream",
          "name": "stdout",
          "text": [
            "Enter the plain text Nasim Hossain Rabbi. This is a plaintext. 1232430u9#@%@#%^ plain text\n",
            "69\n"
          ]
        },
        {
          "output_type": "execute_result",
          "data": {
            "text/plain": [
              "['0100111001100001011100110110100101101101001000000100100001101111',\n",
              " '0111001101110011011000010110100101101110001000000101001001100001',\n",
              " '0110001001100010011010010010111000100000010101000110100001101001',\n",
              " '0111001100100000011010010111001100100000011000010010000001110000',\n",
              " '0110110001100001011010010110111001110100011001010111100001110100',\n",
              " '0010111000100000001100010011001000110011001100100011010000110011',\n",
              " '0011000001110101001110010010001101000000001001010100000000100011',\n",
              " '0010010101011110001000000111000001101100011000010110100101101110',\n",
              " '0000000000000000000000000010000001110100011001010111100001110100']"
            ]
          },
          "metadata": {},
          "execution_count": 25
        }
      ]
    },
    {
      "cell_type": "code",
      "source": [
        "# S-Box dictionary\n",
        "sbox = {'0000': '0011','0001': '1101', '0010': '1010', '0011': '0010', '0100': '0001', '0101': '0111', '0110': '1011', '0111': '0101',\n",
        "        '1000': '1100', '1001': '1110', '1010': '1111', '1011': '0110', '1100': '1001', '1101': '1000', '1110': '0000', '1111': '0100'}\n",
        "\n",
        "\n",
        "# reverse sbox \n",
        "sbox_reversed = dict(map(reversed, sbox.items()))\n",
        "\n",
        "# P-Box list\n",
        "pbox = [ 0,16,32,48,11,17,33,49,21,18,34,30,7,19,35,57,4,40,36,52,5,2,37,53,6,22,38,54,3,23,39,51,8,\n",
        "         28,20,56,9,25,45,55,10,26,46,58,1,27,43,59,12,24,44,60,13,29,41,61,14,50,42,62,15,63,47,31 ]"
      ],
      "metadata": {
        "id": "FdqMYu1sr3uJ"
      },
      "execution_count": 8,
      "outputs": []
    },
    {
      "cell_type": "code",
      "source": [
        "last_encry_key=int()\n",
        "cypher_text=str()"
      ],
      "metadata": {
        "id": "_mqQlfnyr67E"
      },
      "execution_count": 26,
      "outputs": []
    },
    {
      "cell_type": "code",
      "source": [
        "# encrypt the plain binary string into cyper binary string\n",
        "\n",
        "def xor(n1, n2):\n",
        "    return [(ord(a) ^ ord(b)) for a,b in zip(n1, n2)]\n",
        "\n",
        "def pbox_mapped(string):\n",
        "    return ''.join([string[pbox[i]] for i in range(0, len(pbox))])\n",
        "\n",
        "def sbox_mapped(string):\n",
        "    return ''.join([sbox[(string[i:i+4].zfill(4))] for i in range(0,chunk_size, 4)])\n",
        "\n",
        "key_iterator=0\n",
        "cypher_text=\"\"\n",
        "# loop through the 64 bit chunks of binary plain text\n",
        "for bits in binary_plain_text:\n",
        "\n",
        "    # perform xor operation and map using sbox & pbox update count times\n",
        "    for i in range(0,update_count):\n",
        "\n",
        "       last_encry_key=key_iterator\n",
        "       # xor the binary string with 64 bit key\n",
        "       st_xor=xor(bits, keys[key_iterator])\n",
        "\n",
        "       # map the binary string with sbox\n",
        "       bits=sbox_mapped(''.join(map(str,st_xor)))\n",
        "\n",
        "       # map the binary string with pbox to produce permutation\n",
        "       bits=pbox_mapped(''.join(map(str,bits)))\n",
        "\n",
        "       # update key iterator\n",
        "       key_iterator=(key_iterator+1)%total_key\n",
        "       \n",
        "    #\n",
        "    cypher_text = cypher_text + bits\n",
        "\n",
        "print(cypher_text)"
      ],
      "metadata": {
        "id": "6xV2W4wIr9EM",
        "colab": {
          "base_uri": "https://localhost:8080/"
        },
        "outputId": "e45c0b08-8723-4bf8-d678-7cf0e506668d"
      },
      "execution_count": 27,
      "outputs": [
        {
          "output_type": "stream",
          "name": "stdout",
          "text": [
            "101010101110110100010000010011110010111110110110101100011110010011100000000011000100101111101110000000001010100010000000001000000111100100010111011101101010011001010010010110000001100100111111011010000110010100110000100110100111001011001000001101110001100010111011001100010011001000111010010001111100011100010010111011101100000110000010010110110100100111100100101010000000100100111111110110111000100010011001110101110101111111011100101001100101000101010000110110010101100100111110011010010010111001111000111111110001111000111001001010111010010110111100110101010100010001110010\n"
          ]
        }
      ]
    },
    {
      "cell_type": "code",
      "source": [
        "def pbox_reverse_mapped(string):\n",
        "    return ''.join([string[pbox.index(i)] for i in range(0, len(pbox))])\n",
        "\n",
        "def sbox_reverse_mapped(string):\n",
        "    return ''.join([sbox_reversed[(string[i:i+4].zfill(4))] for i in range(0,chunk_size, 4)])"
      ],
      "metadata": {
        "id": "7mpsSu0KsDUs"
      },
      "execution_count": 28,
      "outputs": []
    },
    {
      "cell_type": "code",
      "source": [
        "\n",
        "# decrypt the cypher binary string into plain binary string\n",
        "chunks = [cypher_text[i:i+chunk_size].zfill(chunk_size) for i in range(0, len(cypher_text), chunk_size)]\n",
        "\n",
        "key_iterator = last_encry_key\n",
        "\n",
        "decypher_binary_string=\"\"\n",
        "\n",
        "# loop through the chunks of 64 bits\n",
        "for i in range(len(chunks)-1,-1,-1):\n",
        "\n",
        "  cypher_chunk = chunks[i]\n",
        "\n",
        "  # traverse in reverse order of the keys that were used to xor\n",
        "  for j in range(0,update_count):\n",
        "\n",
        "    # reverse map the cyphertext using pbox\n",
        "    cypher_chunk=pbox_reverse_mapped(''.join(map(str,cypher_chunk)))\n",
        "\n",
        "    # reverse map the cyphertext using sbox\n",
        "    cypher_chunk=sbox_reverse_mapped(''.join(map(str,cypher_chunk)))\n",
        "\n",
        "    # xor the cyphertext with the key to restore the plain binary string\n",
        "    cypher_chunk=''.join(map(str,xor(cypher_chunk,keys[key_iterator])))\n",
        "\n",
        "    key_iterator = key_iterator - 1\n",
        "    if key_iterator < 0:\n",
        "      key_iterator= total_key-1\n",
        "\n",
        "  decypher_binary_string = cypher_chunk + decypher_binary_string\n",
        "\n",
        "print(decypher_binary_string)\n",
        "     "
      ],
      "metadata": {
        "colab": {
          "base_uri": "https://localhost:8080/"
        },
        "id": "EKrskqDosGO8",
        "outputId": "ba865c01-0f5b-4909-c431-7f7c0cc67461"
      },
      "execution_count": 30,
      "outputs": [
        {
          "output_type": "stream",
          "name": "stdout",
          "text": [
            "010011100110000101110011011010010110110100100000010010000110111101110011011100110110000101101001011011100010000001010010011000010110001001100010011010010010111000100000010101000110100001101001011100110010000001101001011100110010000001100001001000000111000001101100011000010110100101101110011101000110010101111000011101000010111000100000001100010011001000110011001100100011010000110011001100000111010100111001001000110100000000100101010000000010001100100101010111100010000001110000011011000110000101101001011011100000000000000000000000000010000001110100011001010111100001110100\n"
          ]
        }
      ]
    },
    {
      "cell_type": "code",
      "source": [
        "def binary_to_char(binary):     \n",
        "    binary1 = binary\n",
        "    decimal, i, n = 0, 0, 0\n",
        "    while(binary != 0):\n",
        "        dec = binary % 10\n",
        "        decimal = decimal + dec * pow(2, i)\n",
        "        binary = binary//10\n",
        "        i += 1\n",
        "    return (chr(decimal))\n",
        "\n",
        "\n",
        "def binary_to_char_blocks(binary):\n",
        "    return [binary_to_char(int(binary[i:i + 8])) for i in range(0, len(binary), 8)]\n",
        "\n",
        "\n",
        "def convert_binary_to_string(binary):\n",
        "    return ''.join(binary_to_char_blocks(binary))"
      ],
      "metadata": {
        "id": "APNMa6vbsKwd"
      },
      "execution_count": 31,
      "outputs": []
    },
    {
      "cell_type": "code",
      "source": [
        "decrypted_string = convert_binary_to_string(decypher_binary_string)\n",
        "ans=str()\n",
        "for ch in decrypted_string:\n",
        "  if ord(ch)>=32 and ord(ch)<128:\n",
        "    ans=ans+ch\n",
        "print(ans)"
      ],
      "metadata": {
        "colab": {
          "base_uri": "https://localhost:8080/"
        },
        "id": "W1sMEiLXsNmN",
        "outputId": "efe44750-2b46-473b-d3e0-c1e7f30987c5"
      },
      "execution_count": 32,
      "outputs": [
        {
          "output_type": "stream",
          "name": "stdout",
          "text": [
            "Nasim Hossain Rabbi. This is a plaintext. 1232430u9#@%@#%^ plain text\n"
          ]
        }
      ]
    }
  ]
}