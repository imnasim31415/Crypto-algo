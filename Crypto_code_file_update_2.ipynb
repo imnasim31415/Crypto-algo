{
  "nbformat": 4,
  "nbformat_minor": 0,
  "metadata": {
    "colab": {
      "provenance": []
    },
    "kernelspec": {
      "name": "python3",
      "display_name": "Python 3"
    },
    "language_info": {
      "name": "python"
    }
  },
  "cells": [
    {
      "cell_type": "code",
      "source": [
        "#  last key iterator is stored and traversed backwards. instead of storing all the keys\n",
        "#  that were used to xor the binary string. this saves both memory and complexities "
      ],
      "metadata": {
        "id": "3nebODrX9Fse"
      },
      "execution_count": 40,
      "outputs": []
    },
    {
      "cell_type": "code",
      "source": [
        "#  partial key is mapped to a random binary number"
      ],
      "metadata": {
        "id": "04qyxrNC9af9"
      },
      "execution_count": 41,
      "outputs": []
    },
    {
      "cell_type": "code",
      "source": [
        "import random"
      ],
      "metadata": {
        "id": "_IjVkWqOWiUC"
      },
      "execution_count": 42,
      "outputs": []
    },
    {
      "cell_type": "code",
      "source": [
        "total_key = 50\n",
        "chunk_size = 64\n",
        "update_count = 10\n",
        "partial_key_size = 32"
      ],
      "metadata": {
        "id": "EivXCaibrda1"
      },
      "execution_count": 43,
      "outputs": []
    },
    {
      "cell_type": "code",
      "execution_count": 44,
      "metadata": {
        "colab": {
          "base_uri": "https://localhost:8080/"
        },
        "id": "Q6PhOJItPJxq",
        "outputId": "6a265c68-279b-4bf9-b14a-dff03efbeec1"
      },
      "outputs": [
        {
          "output_type": "stream",
          "name": "stdout",
          "text": [
            "{0: 80217, 1: 128629, 2: 310670, 3: 468619, 4: 258070, 5: 156892, 6: 400121, 7: 97376, 8: 351078, 9: 368620, 10: 296145, 11: 207679, 12: 194056, 13: 330556, 14: 353094, 15: 455040, 16: 473241, 17: 233471, 18: 361955, 19: 288700, 20: 465511, 21: 372048, 22: 424156, 23: 436542, 24: 348412, 25: 280827, 26: 452234, 27: 68276, 28: 288838, 29: 146432, 30: 40351, 31: 496990, 32: 349067, 33: 249122, 34: 117374, 35: 376353, 36: 152857, 37: 281371, 38: 262012, 39: 215469, 40: 389350, 41: 345942, 42: 323760, 43: 292635, 44: 269127, 45: 247568, 46: 252893, 47: 479697, 48: 267972, 49: 238717}\n",
            "[22, 30, 33, 2, 1, 20, 13, 28, 10, 27, 14, 25, 36, 45, 29, 34, 4, 7, 8, 26, 16, 35, 19, 49, 32, 42, 48, 38, 41, 9, 17, 12, 44, 6, 15, 43, 0, 21, 31, 39, 37, 46, 47, 23, 3, 40, 11, 24, 5, 18]\n",
            "[8, 5, 24, 32, 34, 27, 48, 17, 18, 49, 16, 36, 0, 23, 29, 26, 33, 13, 3, 38, 28, 19, 35, 10, 20, 1, 30, 37, 39, 45, 4, 7, 41, 44, 42, 46, 11, 21, 9, 12, 6, 25, 47, 40, 15, 14, 22, 2, 43, 31]\n"
          ]
        }
      ],
      "source": [
        "# random 32 bit partial key of 1st index and 2nd index\n",
        "\n",
        "index1 = list(range(0,total_key))\n",
        "index1_key = []\n",
        "for i in range(total_key):\n",
        "    index1_key.append(index1.pop(random.randrange(len(index1))))\n",
        "\n",
        "index2 = list(range(0,total_key))\n",
        "index2_key=[]\n",
        "for i in range(total_key):\n",
        "    index2_key.append(index2.pop(random.randrange(len(index2))))\n",
        "\n",
        "\n",
        "# random value is mapped with 50 partial keys. meaning 12 is not represented as 1100 anymore. it will be something else.\n",
        "rand_val = list(range(0,500000))\n",
        "rand = []\n",
        "for i in range(total_key):\n",
        "  rand.append(rand_val.pop(random.randrange(len(rand_val))))\n",
        "\n",
        "rand_key = dict()\n",
        "for i in range(0,total_key):\n",
        "  rand_key[i]=rand[i]\n",
        "  \n",
        "print(rand_key)\n",
        "print(index1_key)\n",
        "print(index2_key)\n"
      ]
    },
    {
      "cell_type": "code",
      "source": [
        "def int_to_binary(s):\n",
        "  return bin(s)[2:].zfill(32)"
      ],
      "metadata": {
        "id": "BB9fl4dcdGN_"
      },
      "execution_count": 45,
      "outputs": []
    },
    {
      "cell_type": "code",
      "source": [
        "# generate 64 bit key using partial key of 1st and 2nd index\n",
        "keys=list(range(0,total_key))\n",
        "def generate_64bit_full_key():\n",
        "    \n",
        "    for i in range(0,total_key):\n",
        "      keys[i]=int_to_binary(rand_key[index1_key[i]])+int_to_binary(rand_key[index2_key[i]])\n",
        "\n",
        "generate_64bit_full_key()\n",
        "keys[0]\n"
      ],
      "metadata": {
        "id": "kFkRCHQLYpir",
        "colab": {
          "base_uri": "https://localhost:8080/",
          "height": 35
        },
        "outputId": "d9567d0b-31bf-45b9-f3cc-782b86e429ea"
      },
      "execution_count": 46,
      "outputs": [
        {
          "output_type": "execute_result",
          "data": {
            "text/plain": [
              "'0000000000000110011110001101110000000000000001010101101101100110'"
            ],
            "application/vnd.google.colaboratory.intrinsic+json": {
              "type": "string"
            }
          },
          "metadata": {},
          "execution_count": 46
        }
      ]
    },
    {
      "cell_type": "code",
      "source": [
        "#converting string into binary\n",
        "#splitting binary string array into chunks of 64bits\n",
        "\n",
        "def string_to_binary(plain_text):\n",
        "    return ''.join(format(ord(i), '08b') for i in plain_text)\n",
        "\n",
        "def convert_string_to_binary(plain_text):\n",
        "    bin=string_to_binary(plain_text)\n",
        "\n",
        "    #splitting binary string array into chunks of 64bits\n",
        "    chunks = [bin[i:i+chunk_size].zfill(chunk_size) for i in range(0, len(bin), chunk_size)]\n",
        "    return chunks\n"
      ],
      "metadata": {
        "id": "k4wtaVysjbBM"
      },
      "execution_count": 47,
      "outputs": []
    },
    {
      "cell_type": "code",
      "source": [
        "#input plain text and convert that to 64 bit binary string\n",
        "plain_text=input('Enter the plain text ')\n",
        "print(len(plain_text))\n",
        "binary_plain_text=convert_string_to_binary(plain_text)\n",
        "binary_plain_text"
      ],
      "metadata": {
        "colab": {
          "base_uri": "https://localhost:8080/"
        },
        "id": "7n2i9ADWi7XM",
        "outputId": "29f054a6-2a08-4123-e59c-fb8e881f1451"
      },
      "execution_count": 48,
      "outputs": [
        {
          "output_type": "stream",
          "name": "stdout",
          "text": [
            "Enter the plain text Nasim Hossain Rabbi\n",
            "19\n"
          ]
        },
        {
          "output_type": "execute_result",
          "data": {
            "text/plain": [
              "['0100111001100001011100110110100101101101001000000100100001101111',\n",
              " '0111001101110011011000010110100101101110001000000101001001100001',\n",
              " '0000000000000000000000000000000000000000011000100110001001101001']"
            ]
          },
          "metadata": {},
          "execution_count": 48
        }
      ]
    },
    {
      "cell_type": "code",
      "source": [
        "# S-Box dictionary\n",
        "sbox = {'0000': '0011','0001': '1101', '0010': '1010', '0011': '0010', '0100': '0001', '0101': '0111', '0110': '1011', '0111': '0101',\n",
        "        '1000': '1100', '1001': '1110', '1010': '1111', '1011': '0110', '1100': '1001', '1101': '1000', '1110': '0000', '1111': '0100'}\n",
        "\n",
        "\n",
        "# reverse sbox \n",
        "sbox_reversed = dict(map(reversed, sbox.items()))\n",
        "\n",
        "# P-Box list\n",
        "pbox = [ 0,16,32,48,11,17,33,49,21,18,34,30,7,19,35,57,4,40,36,52,5,2,37,53,6,22,38,54,3,23,39,51,8,\n",
        "         28,20,56,9,25,45,55,10,26,46,58,1,27,43,59,12,24,44,60,13,29,41,61,14,50,42,62,15,63,47,31 ]"
      ],
      "metadata": {
        "id": "FdqMYu1sr3uJ"
      },
      "execution_count": 49,
      "outputs": []
    },
    {
      "cell_type": "code",
      "source": [
        "last_encry_key=int()\n",
        "cypher_text=str()"
      ],
      "metadata": {
        "id": "_mqQlfnyr67E"
      },
      "execution_count": 50,
      "outputs": []
    },
    {
      "cell_type": "code",
      "source": [
        "# encrypt the plain binary string into cyper binary string\n",
        "\n",
        "def xor(n1, n2):\n",
        "    return [(ord(a) ^ ord(b)) for a,b in zip(n1, n2)]\n",
        "\n",
        "def pbox_mapped(string):\n",
        "    return ''.join([string[pbox[i]] for i in range(0, len(pbox))])\n",
        "\n",
        "def sbox_mapped(string):\n",
        "    return ''.join([sbox[(string[i:i+4].zfill(4))] for i in range(0,chunk_size, 4)])\n",
        "\n",
        "key_iterator=0\n",
        "cypher_text=\"\"\n",
        "# loop through the 64 bit chunks of binary plain text\n",
        "for bits in binary_plain_text:\n",
        "\n",
        "    # perform xor operation and map using sbox & pbox update count times\n",
        "    for i in range(0,update_count):\n",
        "\n",
        "       last_encry_key=key_iterator\n",
        "       # xor the binary string with 64 bit key\n",
        "       st_xor=xor(bits, keys[key_iterator])\n",
        "\n",
        "       # map the binary string with sbox\n",
        "       bits=sbox_mapped(''.join(map(str,st_xor)))\n",
        "\n",
        "       # map the binary string with pbox to produce permutation\n",
        "       bits=pbox_mapped(''.join(map(str,bits)))\n",
        "\n",
        "       # update key iterator\n",
        "       key_iterator=(key_iterator+1)%total_key\n",
        "       \n",
        "    #\n",
        "    cypher_text = cypher_text + bits\n",
        "\n",
        "print(cypher_text)"
      ],
      "metadata": {
        "id": "6xV2W4wIr9EM",
        "colab": {
          "base_uri": "https://localhost:8080/"
        },
        "outputId": "c700d0ac-daf1-4852-e84e-a1b4dd526d8b"
      },
      "execution_count": 52,
      "outputs": [
        {
          "output_type": "stream",
          "name": "stdout",
          "text": [
            "100010010111100000110011000110110010010001111001011111111000001100000001010100000000001000101010010010010011100001101111000110100101011101110101101100010110101100001101011001101011111011110110\n"
          ]
        }
      ]
    },
    {
      "cell_type": "code",
      "source": [
        "def pbox_reverse_mapped(string):\n",
        "    return ''.join([string[pbox.index(i)] for i in range(0, len(pbox))])\n",
        "\n",
        "def sbox_reverse_mapped(string):\n",
        "    return ''.join([sbox_reversed[(string[i:i+4].zfill(4))] for i in range(0,chunk_size, 4)])"
      ],
      "metadata": {
        "id": "7mpsSu0KsDUs"
      },
      "execution_count": 53,
      "outputs": []
    },
    {
      "cell_type": "code",
      "source": [
        "\n",
        "# decrypt the cypher binary string into plain binary string\n",
        "chunks = [cypher_text[i:i+chunk_size].zfill(chunk_size) for i in range(0, len(cypher_text), chunk_size)]\n",
        "\n",
        "key_iterator = last_encry_key\n",
        "\n",
        "decypher_binary_string=\"\"\n",
        "\n",
        "# loop through the chunks of 64 bits\n",
        "for i in range(len(chunks)-1,-1,-1):\n",
        "\n",
        "  cypher_chunk = chunks[i]\n",
        "\n",
        "  # traverse in reverse order of the keys that were used to xor\n",
        "  for j in range(0,update_count):\n",
        "\n",
        "    # reverse map the cyphertext using pbox\n",
        "    cypher_chunk=pbox_reverse_mapped(''.join(map(str,cypher_chunk)))\n",
        "\n",
        "    # reverse map the cyphertext using sbox\n",
        "    cypher_chunk=sbox_reverse_mapped(''.join(map(str,cypher_chunk)))\n",
        "\n",
        "    # xor the cyphertext with the key to restore the plain binary string\n",
        "    cypher_chunk=''.join(map(str,xor(cypher_chunk,keys[key_iterator])))\n",
        "\n",
        "    key_iterator = key_iterator - 1\n",
        "    if key_iterator < 0:\n",
        "      key_iterator= total_key-1\n",
        "\n",
        "  decypher_binary_string = cypher_chunk + decypher_binary_string\n",
        "\n",
        "print(decypher_binary_string)\n",
        "     "
      ],
      "metadata": {
        "colab": {
          "base_uri": "https://localhost:8080/"
        },
        "id": "EKrskqDosGO8",
        "outputId": "1fd96ea6-ee48-4bbc-df10-5d9f81d7e038"
      },
      "execution_count": 54,
      "outputs": [
        {
          "output_type": "stream",
          "name": "stdout",
          "text": [
            "010011100110000101110011011010010110110100100000010010000110111101110011011100110110000101101001011011100010000001010010011000010000000000000000000000000000000000000000011000100110001001101001\n"
          ]
        }
      ]
    },
    {
      "cell_type": "code",
      "source": [
        "def binary_to_char(binary):     \n",
        "    binary1 = binary\n",
        "    decimal, i, n = 0, 0, 0\n",
        "    while(binary != 0):\n",
        "        dec = binary % 10\n",
        "        decimal = decimal + dec * pow(2, i)\n",
        "        binary = binary//10\n",
        "        i += 1\n",
        "    return (chr(decimal))\n",
        "\n",
        "\n",
        "def binary_to_char_blocks(binary):\n",
        "    return [binary_to_char(int(binary[i:i + 8])) for i in range(0, len(binary), 8)]\n",
        "\n",
        "\n",
        "def convert_binary_to_string(binary):\n",
        "    return ''.join(binary_to_char_blocks(binary))"
      ],
      "metadata": {
        "id": "APNMa6vbsKwd"
      },
      "execution_count": 55,
      "outputs": []
    },
    {
      "cell_type": "code",
      "source": [
        "decrypted_string = convert_binary_to_string(decypher_binary_string)\n",
        "ans=str()\n",
        "for ch in decrypted_string:\n",
        "  if ord(ch)>=32 and ord(ch)<128:\n",
        "    ans=ans+ch\n",
        "print(ans)"
      ],
      "metadata": {
        "colab": {
          "base_uri": "https://localhost:8080/"
        },
        "id": "W1sMEiLXsNmN",
        "outputId": "874aa43c-6de3-4181-f03c-d8c213b27f64"
      },
      "execution_count": 56,
      "outputs": [
        {
          "output_type": "stream",
          "name": "stdout",
          "text": [
            "Nasim Hossain Rabbi\n"
          ]
        }
      ]
    }
  ]
}