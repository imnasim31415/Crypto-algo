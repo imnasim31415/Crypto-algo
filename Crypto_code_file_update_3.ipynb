{
  "nbformat": 4,
  "nbformat_minor": 0,
  "metadata": {
    "colab": {
      "provenance": []
    },
    "kernelspec": {
      "name": "python3",
      "display_name": "Python 3"
    },
    "language_info": {
      "name": "python"
    }
  },
  "cells": [
    {
      "cell_type": "code",
      "source": [
        "# partial key 32 bit rando                        -> done\n",
        "# sbox pbox mid layer                             -> done\n",
        "# extra one xor at end of the update              -> done"
      ],
      "metadata": {
        "id": "vsMCs9DRGk8w"
      },
      "execution_count": 94,
      "outputs": []
    },
    {
      "cell_type": "code",
      "source": [
        "#  last key iterator is stored and traversed backwards. instead of storing all the keys\n",
        "#  that were used to xor the binary string. this saves both memory and complexities "
      ],
      "metadata": {
        "id": "3nebODrX9Fse"
      },
      "execution_count": 116,
      "outputs": []
    },
    {
      "cell_type": "code",
      "source": [
        "#  partial key is mapped to a random binary number"
      ],
      "metadata": {
        "id": "04qyxrNC9af9"
      },
      "execution_count": 117,
      "outputs": []
    },
    {
      "cell_type": "code",
      "source": [
        "import random"
      ],
      "metadata": {
        "id": "_IjVkWqOWiUC"
      },
      "execution_count": 118,
      "outputs": []
    },
    {
      "cell_type": "code",
      "source": [
        "total_key = 50\n",
        "chunk_size = 64\n",
        "update_count = 10\n",
        "partial_key_size = 32"
      ],
      "metadata": {
        "id": "EivXCaibrda1"
      },
      "execution_count": 119,
      "outputs": []
    },
    {
      "cell_type": "code",
      "source": [
        "# randomly taking 32 bit 500 numbers to the rand_val list\n",
        "rand_val = list()\n",
        "for i in range(4294967296,4294967296+100):\n",
        "  rand_val.append(i)\n",
        "for i in range(4294977296,4294977296+100):\n",
        "  rand_val.append(i)\n",
        "for i in range(4394967296,4394967296+100):\n",
        "  rand_val.append(i)\n",
        "for i in range(4395967296,4395967296+100):\n",
        "  rand_val.append(i)\n",
        "for i in range(4794967296,4794967296+100):\n",
        "  rand_val.append(i)\n",
        "print(rand_val)\n",
        "print(len(rand_val))"
      ],
      "metadata": {
        "colab": {
          "base_uri": "https://localhost:8080/"
        },
        "id": "RgUrjgJj-nWS",
        "outputId": "54f89b6a-7d21-4b8c-b3f1-8509a7d03ee2"
      },
      "execution_count": 120,
      "outputs": [
        {
          "output_type": "stream",
          "name": "stdout",
          "text": [
            "[4294967296, 4294967297, 4294967298, 4294967299, 4294967300, 4294967301, 4294967302, 4294967303, 4294967304, 4294967305, 4294967306, 4294967307, 4294967308, 4294967309, 4294967310, 4294967311, 4294967312, 4294967313, 4294967314, 4294967315, 4294967316, 4294967317, 4294967318, 4294967319, 4294967320, 4294967321, 4294967322, 4294967323, 4294967324, 4294967325, 4294967326, 4294967327, 4294967328, 4294967329, 4294967330, 4294967331, 4294967332, 4294967333, 4294967334, 4294967335, 4294967336, 4294967337, 4294967338, 4294967339, 4294967340, 4294967341, 4294967342, 4294967343, 4294967344, 4294967345, 4294967346, 4294967347, 4294967348, 4294967349, 4294967350, 4294967351, 4294967352, 4294967353, 4294967354, 4294967355, 4294967356, 4294967357, 4294967358, 4294967359, 4294967360, 4294967361, 4294967362, 4294967363, 4294967364, 4294967365, 4294967366, 4294967367, 4294967368, 4294967369, 4294967370, 4294967371, 4294967372, 4294967373, 4294967374, 4294967375, 4294967376, 4294967377, 4294967378, 4294967379, 4294967380, 4294967381, 4294967382, 4294967383, 4294967384, 4294967385, 4294967386, 4294967387, 4294967388, 4294967389, 4294967390, 4294967391, 4294967392, 4294967393, 4294967394, 4294967395, 4294977296, 4294977297, 4294977298, 4294977299, 4294977300, 4294977301, 4294977302, 4294977303, 4294977304, 4294977305, 4294977306, 4294977307, 4294977308, 4294977309, 4294977310, 4294977311, 4294977312, 4294977313, 4294977314, 4294977315, 4294977316, 4294977317, 4294977318, 4294977319, 4294977320, 4294977321, 4294977322, 4294977323, 4294977324, 4294977325, 4294977326, 4294977327, 4294977328, 4294977329, 4294977330, 4294977331, 4294977332, 4294977333, 4294977334, 4294977335, 4294977336, 4294977337, 4294977338, 4294977339, 4294977340, 4294977341, 4294977342, 4294977343, 4294977344, 4294977345, 4294977346, 4294977347, 4294977348, 4294977349, 4294977350, 4294977351, 4294977352, 4294977353, 4294977354, 4294977355, 4294977356, 4294977357, 4294977358, 4294977359, 4294977360, 4294977361, 4294977362, 4294977363, 4294977364, 4294977365, 4294977366, 4294977367, 4294977368, 4294977369, 4294977370, 4294977371, 4294977372, 4294977373, 4294977374, 4294977375, 4294977376, 4294977377, 4294977378, 4294977379, 4294977380, 4294977381, 4294977382, 4294977383, 4294977384, 4294977385, 4294977386, 4294977387, 4294977388, 4294977389, 4294977390, 4294977391, 4294977392, 4294977393, 4294977394, 4294977395, 4394967296, 4394967297, 4394967298, 4394967299, 4394967300, 4394967301, 4394967302, 4394967303, 4394967304, 4394967305, 4394967306, 4394967307, 4394967308, 4394967309, 4394967310, 4394967311, 4394967312, 4394967313, 4394967314, 4394967315, 4394967316, 4394967317, 4394967318, 4394967319, 4394967320, 4394967321, 4394967322, 4394967323, 4394967324, 4394967325, 4394967326, 4394967327, 4394967328, 4394967329, 4394967330, 4394967331, 4394967332, 4394967333, 4394967334, 4394967335, 4394967336, 4394967337, 4394967338, 4394967339, 4394967340, 4394967341, 4394967342, 4394967343, 4394967344, 4394967345, 4394967346, 4394967347, 4394967348, 4394967349, 4394967350, 4394967351, 4394967352, 4394967353, 4394967354, 4394967355, 4394967356, 4394967357, 4394967358, 4394967359, 4394967360, 4394967361, 4394967362, 4394967363, 4394967364, 4394967365, 4394967366, 4394967367, 4394967368, 4394967369, 4394967370, 4394967371, 4394967372, 4394967373, 4394967374, 4394967375, 4394967376, 4394967377, 4394967378, 4394967379, 4394967380, 4394967381, 4394967382, 4394967383, 4394967384, 4394967385, 4394967386, 4394967387, 4394967388, 4394967389, 4394967390, 4394967391, 4394967392, 4394967393, 4394967394, 4394967395, 4395967296, 4395967297, 4395967298, 4395967299, 4395967300, 4395967301, 4395967302, 4395967303, 4395967304, 4395967305, 4395967306, 4395967307, 4395967308, 4395967309, 4395967310, 4395967311, 4395967312, 4395967313, 4395967314, 4395967315, 4395967316, 4395967317, 4395967318, 4395967319, 4395967320, 4395967321, 4395967322, 4395967323, 4395967324, 4395967325, 4395967326, 4395967327, 4395967328, 4395967329, 4395967330, 4395967331, 4395967332, 4395967333, 4395967334, 4395967335, 4395967336, 4395967337, 4395967338, 4395967339, 4395967340, 4395967341, 4395967342, 4395967343, 4395967344, 4395967345, 4395967346, 4395967347, 4395967348, 4395967349, 4395967350, 4395967351, 4395967352, 4395967353, 4395967354, 4395967355, 4395967356, 4395967357, 4395967358, 4395967359, 4395967360, 4395967361, 4395967362, 4395967363, 4395967364, 4395967365, 4395967366, 4395967367, 4395967368, 4395967369, 4395967370, 4395967371, 4395967372, 4395967373, 4395967374, 4395967375, 4395967376, 4395967377, 4395967378, 4395967379, 4395967380, 4395967381, 4395967382, 4395967383, 4395967384, 4395967385, 4395967386, 4395967387, 4395967388, 4395967389, 4395967390, 4395967391, 4395967392, 4395967393, 4395967394, 4395967395, 4794967296, 4794967297, 4794967298, 4794967299, 4794967300, 4794967301, 4794967302, 4794967303, 4794967304, 4794967305, 4794967306, 4794967307, 4794967308, 4794967309, 4794967310, 4794967311, 4794967312, 4794967313, 4794967314, 4794967315, 4794967316, 4794967317, 4794967318, 4794967319, 4794967320, 4794967321, 4794967322, 4794967323, 4794967324, 4794967325, 4794967326, 4794967327, 4794967328, 4794967329, 4794967330, 4794967331, 4794967332, 4794967333, 4794967334, 4794967335, 4794967336, 4794967337, 4794967338, 4794967339, 4794967340, 4794967341, 4794967342, 4794967343, 4794967344, 4794967345, 4794967346, 4794967347, 4794967348, 4794967349, 4794967350, 4794967351, 4794967352, 4794967353, 4794967354, 4794967355, 4794967356, 4794967357, 4794967358, 4794967359, 4794967360, 4794967361, 4794967362, 4794967363, 4794967364, 4794967365, 4794967366, 4794967367, 4794967368, 4794967369, 4794967370, 4794967371, 4794967372, 4794967373, 4794967374, 4794967375, 4794967376, 4794967377, 4794967378, 4794967379, 4794967380, 4794967381, 4794967382, 4794967383, 4794967384, 4794967385, 4794967386, 4794967387, 4794967388, 4794967389, 4794967390, 4794967391, 4794967392, 4794967393, 4794967394, 4794967395]\n",
            "500\n"
          ]
        }
      ]
    },
    {
      "cell_type": "code",
      "execution_count": 121,
      "metadata": {
        "colab": {
          "base_uri": "https://localhost:8080/"
        },
        "id": "Q6PhOJItPJxq",
        "outputId": "488f1bf4-7ba5-461f-8b99-d394567e5377"
      },
      "outputs": [
        {
          "output_type": "stream",
          "name": "stdout",
          "text": [
            "{0: 4294977314, 1: 4294977377, 2: 4794967326, 3: 4395967361, 4: 4294967395, 5: 4294977358, 6: 4294977349, 7: 4395967390, 8: 4294967303, 9: 4794967313, 10: 4395967297, 11: 4394967355, 12: 4294977313, 13: 4394967373, 14: 4395967388, 15: 4294967311, 16: 4794967309, 17: 4394967378, 18: 4794967321, 19: 4294977327, 20: 4395967338, 21: 4794967348, 22: 4394967369, 23: 4394967341, 24: 4294977376, 25: 4294977300, 26: 4394967370, 27: 4394967390, 28: 4395967336, 29: 4395967340, 30: 4394967363, 31: 4394967333, 32: 4294977389, 33: 4395967391, 34: 4294977334, 35: 4395967296, 36: 4395967324, 37: 4394967347, 38: 4294967313, 39: 4395967305, 40: 4395967310, 41: 4395967346, 42: 4394967297, 43: 4394967332, 44: 4294967334, 45: 4294977305, 46: 4294967338, 47: 4294977299, 48: 4794967340, 49: 4294967307}\n",
            "[23, 40, 33, 15, 47, 13, 30, 48, 5, 43, 38, 46, 37, 4, 2, 16, 49, 27, 3, 1, 8, 11, 41, 14, 45, 39, 29, 44, 12, 7, 18, 10, 36, 32, 35, 19, 22, 28, 20, 25, 0, 9, 34, 21, 42, 6, 17, 31, 24, 26]\n",
            "[24, 5, 23, 17, 16, 27, 39, 40, 30, 0, 46, 48, 38, 49, 10, 7, 47, 21, 3, 35, 41, 12, 1, 36, 28, 26, 8, 45, 43, 25, 9, 14, 6, 32, 19, 18, 44, 34, 37, 15, 13, 42, 2, 33, 22, 4, 11, 31, 20, 29]\n"
          ]
        }
      ],
      "source": [
        "# random 32 bit partial key of 1st index and 2nd index\n",
        "\n",
        "index1 = list(range(0,total_key))\n",
        "index1_key = []\n",
        "for i in range(total_key):\n",
        "    index1_key.append(index1.pop(random.randrange(len(index1))))\n",
        "\n",
        "index2 = list(range(0,total_key))\n",
        "index2_key=[]\n",
        "for i in range(total_key):\n",
        "    index2_key.append(index2.pop(random.randrange(len(index2))))\n",
        "\n",
        "\n",
        "# random value is mapped with 50 partial keys. meaning 12 is not represented as 1100 anymore. it will be something else.\n",
        "\n",
        "rand = []\n",
        "for i in range(total_key):\n",
        "  rand.append(rand_val.pop(random.randrange(len(rand_val))))\n",
        "\n",
        "rand_key = dict()\n",
        "for i in range(0,total_key):\n",
        "  rand_key[i]=rand[i]\n",
        "  \n",
        "print(rand_key)\n",
        "print(index1_key)\n",
        "print(index2_key)"
      ]
    },
    {
      "cell_type": "code",
      "source": [
        "def int_to_binary(s):\n",
        "  return bin(s)[2:]\n",
        "  #return bin(s)[2:].zfill(32)"
      ],
      "metadata": {
        "id": "BB9fl4dcdGN_"
      },
      "execution_count": 122,
      "outputs": []
    },
    {
      "cell_type": "code",
      "source": [
        "# generate 64 bit key using partial key of 1st and 2nd index\n",
        "keys=list(range(0,total_key))\n",
        "def generate_64bit_full_key():\n",
        "  \n",
        "    for i in range(0,total_key):\n",
        "      keys[i]=int_to_binary(rand_key[index1_key[i]])+int_to_binary(rand_key[index2_key[i]])\n",
        "\n",
        "generate_64bit_full_key()\n",
        "keys[0]\n"
      ],
      "metadata": {
        "id": "kFkRCHQLYpir",
        "colab": {
          "base_uri": "https://localhost:8080/",
          "height": 35
        },
        "outputId": "a415e4bb-e583-44ec-d938-c069e2022faa"
      },
      "execution_count": 123,
      "outputs": [
        {
          "output_type": "execute_result",
          "data": {
            "text/plain": [
              "'100000101111101011110000100101101100000000000000000010011101100000'"
            ],
            "application/vnd.google.colaboratory.intrinsic+json": {
              "type": "string"
            }
          },
          "metadata": {},
          "execution_count": 123
        }
      ]
    },
    {
      "cell_type": "code",
      "source": [
        "#converting string into binary\n",
        "#splitting binary string array into chunks of 64bits\n",
        "\n",
        "def string_to_binary(plain_text):\n",
        "    return ''.join(format(ord(i), '08b') for i in plain_text)\n",
        "\n",
        "def convert_string_to_binary(plain_text):\n",
        "    bin=string_to_binary(plain_text)\n",
        "\n",
        "    #splitting binary string array into chunks of 64bits\n",
        "    chunks = [bin[i:i+chunk_size].zfill(chunk_size) for i in range(0, len(bin), chunk_size)]\n",
        "    return chunks\n"
      ],
      "metadata": {
        "id": "k4wtaVysjbBM"
      },
      "execution_count": 124,
      "outputs": []
    },
    {
      "cell_type": "code",
      "source": [
        "#input plain text and convert that to 64 bit binary string\n",
        "plain_text=input('Enter the plain text ')\n",
        "print(len(plain_text))\n",
        "binary_plain_text=convert_string_to_binary(plain_text)\n",
        "binary_plain_text"
      ],
      "metadata": {
        "colab": {
          "base_uri": "https://localhost:8080/"
        },
        "id": "7n2i9ADWi7XM",
        "outputId": "a834a04c-9fda-4a64-9060-18b2b60643b2"
      },
      "execution_count": 125,
      "outputs": [
        {
          "output_type": "stream",
          "name": "stdout",
          "text": [
            "Enter the plain text Hello world. This is a plaintext. imnasim3.1415@gmail.com\n",
            "57\n"
          ]
        },
        {
          "output_type": "execute_result",
          "data": {
            "text/plain": [
              "['0100100001100101011011000110110001101111001000000111011101101111',\n",
              " '0111001001101100011001000010111000100000010101000110100001101001',\n",
              " '0111001100100000011010010111001100100000011000010010000001110000',\n",
              " '0110110001100001011010010110111001110100011001010111100001110100',\n",
              " '0010111000100000011010010110110101101110011000010111001101101001',\n",
              " '0110110100110011001011100011000100110100001100010011010101000000',\n",
              " '0110011101101101011000010110100101101100001011100110001101101111',\n",
              " '0000000000000000000000000000000000000000000000000000000001101101']"
            ]
          },
          "metadata": {},
          "execution_count": 125
        }
      ]
    },
    {
      "cell_type": "code",
      "source": [
        "# S-Box dictionary\n",
        "sbox = {'0000': '0011','0001': '1101', '0010': '1010', '0011': '0010', '0100': '0001', '0101': '0111', '0110': '1011', '0111': '0101',\n",
        "        '1000': '1100', '1001': '1110', '1010': '1111', '1011': '0110', '1100': '1001', '1101': '1000', '1110': '0000', '1111': '0100'}\n",
        "\n",
        "\n",
        "# reverse sbox \n",
        "sbox_reversed = dict(map(reversed, sbox.items()))\n",
        "\n",
        "# P-Box list\n",
        "pbox = [ 0,16,32,48,11,17,33,49,21,18,34,30,7,19,35,57,4,40,36,52,5,2,37,53,6,22,38,54,3,23,39,51,8,\n",
        "         28,20,56,9,25,45,55,10,26,46,58,1,27,43,59,12,24,44,60,13,29,41,61,14,50,42,62,15,63,47,31 ]"
      ],
      "metadata": {
        "id": "FdqMYu1sr3uJ"
      },
      "execution_count": 127,
      "outputs": []
    },
    {
      "cell_type": "code",
      "source": [
        "last_encry_key=int()\n",
        "cypher_text=str()"
      ],
      "metadata": {
        "id": "_mqQlfnyr67E"
      },
      "execution_count": 128,
      "outputs": []
    },
    {
      "cell_type": "code",
      "source": [
        "def xor(n1, n2):\n",
        "    return [(ord(a) ^ ord(b)) for a,b in zip(n1, n2)]\n",
        "\n",
        "def pbox_mapped(string):\n",
        "    return ''.join([string[pbox[i]] for i in range(0, len(pbox))])\n",
        "\n",
        "def sbox_mapped(string):\n",
        "    return ''.join([sbox[(string[i:i+4].zfill(4))] for i in range(0,chunk_size, 4)])\n",
        "\n",
        "def mid_layer(bits):\n",
        "  mid_layer_chunk = [bits[i:i+partial_key_size].zfill(partial_key_size) for i in range(0, len(bits), partial_key_size)]\n",
        "  chunk_1=mid_layer_chunk[0]\n",
        "  chunk_2=mid_layer_chunk[1]\n",
        "  chunk_1 = ''.join(map(str,xor(chunk_1,chunk_2)))\n",
        "  return chunk_1 + chunk_2\n"
      ],
      "metadata": {
        "id": "lWDbTRCeG-CR"
      },
      "execution_count": 129,
      "outputs": []
    },
    {
      "cell_type": "code",
      "source": [
        "# encrypt the plain binary string into cyper binary string\n",
        "\n",
        "key_iterator=0\n",
        "cypher_text=\"\"\n",
        "# loop through the 64 bit chunks of binary plain text\n",
        "for bits in binary_plain_text:\n",
        "\n",
        "    # perform xor operation and map using sbox & pbox update count times\n",
        "    for i in range(0,update_count):\n",
        "\n",
        "       last_encry_key=key_iterator\n",
        "       # xor the binary string with 64 bit key\n",
        "       bits=''.join(map(str,xor(bits,keys[key_iterator])))\n",
        "\n",
        "       # map the binary string with sbox\n",
        "       bits=sbox_mapped(''.join(map(str,bits)))\n",
        "\n",
        "       # mid layer xor\n",
        "       bits = mid_layer(bits)\n",
        "\n",
        "       # map the binary string with pbox to produce permutation\n",
        "       bits=pbox_mapped(''.join(map(str,bits)))\n",
        "\n",
        "       # update key iterator\n",
        "       key_iterator=(key_iterator+1)%total_key\n",
        "       \n",
        "    # extra one xor with 11th key (1 index)\n",
        "    bits=''.join(map(str,xor(bits,keys[key_iterator])))\n",
        "    last_encry_key=key_iterator\n",
        "    key_iterator=(key_iterator+1)%total_key\n",
        "\n",
        "    cypher_text = cypher_text + bits\n",
        "\n",
        "print(cypher_text)"
      ],
      "metadata": {
        "id": "6xV2W4wIr9EM",
        "colab": {
          "base_uri": "https://localhost:8080/"
        },
        "outputId": "0417b05c-dedb-4fa1-f5dc-9cb3e3a34b61"
      },
      "execution_count": 130,
      "outputs": [
        {
          "output_type": "stream",
          "name": "stdout",
          "text": [
            "01011000001111100110010010000011001010010010111111001111000101100101000101110101111110111101001000101000101010011001100101011110110010001100011110001110010011010111110111101101000111101110000111000111101101011111001001111101101000001000111101100100101100111111110111010011000100011001010010001101100010101111110011001100110010010100001010111111100110110110111001111010100101010011110000111101011101111110001010001000001011100100010100101111111000111011001011011111011110100011001110111011001000101101110101000000\n"
          ]
        }
      ]
    },
    {
      "cell_type": "code",
      "source": [
        "def pbox_reverse_mapped(string):\n",
        "    return ''.join([string[pbox.index(i)] for i in range(0, len(pbox))])\n",
        "\n",
        "def sbox_reverse_mapped(string):\n",
        "    return ''.join([sbox_reversed[(string[i:i+4].zfill(4))] for i in range(0,chunk_size, 4)])"
      ],
      "metadata": {
        "id": "7mpsSu0KsDUs"
      },
      "execution_count": 131,
      "outputs": []
    },
    {
      "cell_type": "code",
      "source": [
        "\n",
        "# decrypt the cypher binary string into plain binary string\n",
        "chunks = [cypher_text[i:i+chunk_size].zfill(chunk_size) for i in range(0, len(cypher_text), chunk_size)]\n",
        "\n",
        "key_iterator = last_encry_key\n",
        "\n",
        "decypher_binary_string=\"\"\n",
        "\n",
        "# loop through the chunks of 64 bits\n",
        "for i in range(len(chunks)-1,-1,-1):\n",
        "\n",
        "  cypher_chunk = chunks[i]\n",
        "  \n",
        "  # decrypt the extra xor key \n",
        "  cypher_chunk=''.join(map(str,xor(cypher_chunk,keys[key_iterator])))\n",
        "  key_iterator = key_iterator - 1\n",
        "  if key_iterator < 0:\n",
        "    key_iterator= total_key-1\n",
        "\n",
        "\n",
        "  # traverse in reverse order of the keys that were used to xor\n",
        "  for j in range(0,update_count):\n",
        "\n",
        "    # reverse map the cyphertext using pbox\n",
        "    cypher_chunk=pbox_reverse_mapped(''.join(map(str,cypher_chunk)))\n",
        "\n",
        "    cypher_chunk = mid_layer(cypher_chunk)\n",
        "\n",
        "    # reverse map the cyphertext using sbox\n",
        "    cypher_chunk=sbox_reverse_mapped(''.join(map(str,cypher_chunk)))\n",
        "\n",
        "    # xor the cyphertext with the key to restore the plain binary string\n",
        "    cypher_chunk=''.join(map(str,xor(cypher_chunk,keys[key_iterator])))\n",
        "\n",
        "    key_iterator = key_iterator - 1\n",
        "    if key_iterator < 0:\n",
        "      key_iterator= total_key-1\n",
        "\n",
        "  decypher_binary_string = cypher_chunk + decypher_binary_string\n",
        "\n",
        "print(decypher_binary_string)\n",
        "     "
      ],
      "metadata": {
        "colab": {
          "base_uri": "https://localhost:8080/"
        },
        "id": "EKrskqDosGO8",
        "outputId": "267abcf7-fdfd-4c1f-abe6-5eab4f6226c0"
      },
      "execution_count": 132,
      "outputs": [
        {
          "output_type": "stream",
          "name": "stdout",
          "text": [
            "01001000011001010110110001101100011011110010000001110111011011110111001001101100011001000010111000100000010101000110100001101001011100110010000001101001011100110010000001100001001000000111000001101100011000010110100101101110011101000110010101111000011101000010111000100000011010010110110101101110011000010111001101101001011011010011001100101110001100010011010000110001001101010100000001100111011011010110000101101001011011000010111001100011011011110000000000000000000000000000000000000000000000000000000001101101\n"
          ]
        }
      ]
    },
    {
      "cell_type": "code",
      "source": [
        "def binary_to_char(binary):     \n",
        "    binary1 = binary\n",
        "    decimal, i, n = 0, 0, 0\n",
        "    while(binary != 0):\n",
        "        dec = binary % 10\n",
        "        decimal = decimal + dec * pow(2, i)\n",
        "        binary = binary//10\n",
        "        i += 1\n",
        "    return (chr(decimal))\n",
        "\n",
        "\n",
        "def binary_to_char_blocks(binary):\n",
        "    return [binary_to_char(int(binary[i:i + 8])) for i in range(0, len(binary), 8)]\n",
        "\n",
        "\n",
        "def convert_binary_to_string(binary):\n",
        "    return ''.join(binary_to_char_blocks(binary))"
      ],
      "metadata": {
        "id": "APNMa6vbsKwd"
      },
      "execution_count": 133,
      "outputs": []
    },
    {
      "cell_type": "code",
      "source": [
        "decrypted_string = convert_binary_to_string(decypher_binary_string)\n",
        "ans=str()\n",
        "for ch in decrypted_string:\n",
        "  if ord(ch)>=32 and ord(ch)<128:\n",
        "    ans=ans+ch\n",
        "print(ans)"
      ],
      "metadata": {
        "colab": {
          "base_uri": "https://localhost:8080/"
        },
        "id": "W1sMEiLXsNmN",
        "outputId": "572fb049-faa3-4f84-d21c-8870b68d3448"
      },
      "execution_count": 134,
      "outputs": [
        {
          "output_type": "stream",
          "name": "stdout",
          "text": [
            "Hello world. This is a plaintext. imnasim3.1415@gmail.com\n"
          ]
        }
      ]
    }
  ]
}